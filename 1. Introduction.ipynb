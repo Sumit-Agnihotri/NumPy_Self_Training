{
 "cells": [
  {
   "cell_type": "markdown",
   "id": "2364cba2",
   "metadata": {},
   "source": [
    "# NumPy"
   ]
  },
  {
   "cell_type": "markdown",
   "id": "cd2c1b51",
   "metadata": {},
   "source": [
    "1. NumPy = Numerical Python\n",
    "2. Found by Travis Oliphant in 2008\n",
    "3. It defines multiple dimensions of arrays helping in fst mathematical functions.\n",
    "4. A fundamental package for scientific computing.\n",
    "5. Works in domains of Linear Algebra, Matrices and Fourier Transformation."
   ]
  },
  {
   "cell_type": "markdown",
   "id": "680accd4",
   "metadata": {},
   "source": [
    "# Arrays"
   ]
  },
  {
   "cell_type": "markdown",
   "id": "34ede965",
   "metadata": {},
   "source": [
    "1. Collection of items which are stored very in close memory locations.\n",
    "2.  Contains fixed number of and same type of items.\n",
    "3. Saves a lot of time and takes less space than usual lists"
   ]
  },
  {
   "cell_type": "markdown",
   "id": "62489632",
   "metadata": {},
   "source": [
    "# Advantages of Arrays"
   ]
  },
  {
   "cell_type": "markdown",
   "id": "45c183c5",
   "metadata": {},
   "source": [
    "1. Less memory to store data.\n",
    "2. Used for creating n-dimensional arrays.\n",
    "3. Makes it very easy to perform Mathematical Calculations.\n",
    "4. Finding any element in NumPy arrays is easy."
   ]
  },
  {
   "cell_type": "code",
   "execution_count": 1,
   "id": "30706fe0",
   "metadata": {},
   "outputs": [],
   "source": [
    "import numpy as np"
   ]
  },
  {
   "cell_type": "code",
   "execution_count": 3,
   "id": "59c66866",
   "metadata": {},
   "outputs": [
    {
     "name": "stdout",
     "output_type": "stream",
     "text": [
      "[10, 20, 30, 40, 50, 60]\n",
      "[10, 20, 30, 10, 20, 30]\n"
     ]
    }
   ],
   "source": [
    "l1 = [10, 20, 30]\n",
    "l2 = [40, 50, 60]\n",
    "print(l1 + l2)  # This will concatenate the lists\n",
    "print(l1 * 2)"
   ]
  },
  {
   "cell_type": "code",
   "execution_count": null,
   "id": "bf49dc95",
   "metadata": {},
   "outputs": [
    {
     "name": "stdout",
     "output_type": "stream",
     "text": [
      "[50 70 90]\n",
      "[ 400 1000 1800]\n"
     ]
    }
   ],
   "source": [
    "l1 = np.array([10, 20, 30])\n",
    "l2 = np.array([40, 50, 60])\n",
    "print(l1 + l2)  # This will add the arrays element-wise\n",
    "print(l1 * l2)   # This will multiply each element by the corresponding element"
   ]
  },
  {
   "cell_type": "code",
   "execution_count": 6,
   "id": "49558adc",
   "metadata": {},
   "outputs": [
    {
     "name": "stdout",
     "output_type": "stream",
     "text": [
      "[15 25 35]\n",
      "[ 50 100 150]\n"
     ]
    }
   ],
   "source": [
    "l1 = np.array([10, 20, 30])\n",
    "l2 = 5\n",
    "print(l1 + l2)  # This will add 5 to each element of the array\n",
    "print(l1 * l2)  # This will multiply each element by 5"
   ]
  },
  {
   "cell_type": "markdown",
   "id": "83070a1c",
   "metadata": {},
   "source": [
    "# Arrays vs Lists"
   ]
  },
  {
   "cell_type": "markdown",
   "id": "ccf528f5",
   "metadata": {},
   "source": [
    "1. List cannot perform Mathematical Operations, but Arrays can.\n",
    "2. Arrays consume less memory than lists.\n",
    "3. Arrays are faster than lists.\n",
    "4. List can store different datatypes but arrays cannot.\n",
    "5. In losts, one can have nested data with different sizes, but arrays cannot.\n",
    "5. A list is easier to modify than array as it stores data individually.\n",
    "6. It is easier to add or delete an element in list than in array."
   ]
  },
  {
   "cell_type": "code",
   "execution_count": 10,
   "id": "4ff44e06",
   "metadata": {},
   "outputs": [
    {
     "name": "stdout",
     "output_type": "stream",
     "text": [
      "[[10, 20, 30], [50, 60]]\n"
     ]
    }
   ],
   "source": [
    "# List\n",
    "list1 = [[10, 20, 30],[50, 60]]\n",
    "print(list1) #+ This will print a list of lists"
   ]
  },
  {
   "cell_type": "code",
   "execution_count": null,
   "id": "deaa3bbb",
   "metadata": {},
   "outputs": [
    {
     "ename": "ValueError",
     "evalue": "setting an array element with a sequence. The requested array has an inhomogeneous shape after 1 dimensions. The detected shape was (2,) + inhomogeneous part.",
     "output_type": "error",
     "traceback": [
      "\u001b[31m---------------------------------------------------------------------------\u001b[39m",
      "\u001b[31mValueError\u001b[39m                                Traceback (most recent call last)",
      "\u001b[36mCell\u001b[39m\u001b[36m \u001b[39m\u001b[32mIn[9]\u001b[39m\u001b[32m, line 1\u001b[39m\n\u001b[32m----> \u001b[39m\u001b[32m1\u001b[39m list1 = \u001b[43mnp\u001b[49m\u001b[43m.\u001b[49m\u001b[43marray\u001b[49m\u001b[43m(\u001b[49m\u001b[43m[\u001b[49m\u001b[43m[\u001b[49m\u001b[32;43m10\u001b[39;49m\u001b[43m,\u001b[49m\u001b[43m \u001b[49m\u001b[32;43m20\u001b[39;49m\u001b[43m,\u001b[49m\u001b[43m \u001b[49m\u001b[32;43m30\u001b[39;49m\u001b[43m]\u001b[49m\u001b[43m,\u001b[49m\u001b[43m[\u001b[49m\u001b[32;43m50\u001b[39;49m\u001b[43m,\u001b[49m\u001b[43m \u001b[49m\u001b[32;43m60\u001b[39;49m\u001b[43m]\u001b[49m\u001b[43m]\u001b[49m\u001b[43m)\u001b[49m\n\u001b[32m      2\u001b[39m \u001b[38;5;28mprint\u001b[39m(list1) \u001b[38;5;66;03m# \u001b[39;00m\n",
      "\u001b[31mValueError\u001b[39m: setting an array element with a sequence. The requested array has an inhomogeneous shape after 1 dimensions. The detected shape was (2,) + inhomogeneous part."
     ]
    }
   ],
   "source": [
    "# Array\n",
    "list1 = np.array([[10, 20, 30],[50, 60]])\n",
    "print(list1) # This will gice an error because the inner lists have different lengths"
   ]
  }
 ],
 "metadata": {
  "kernelspec": {
   "display_name": "Python 3",
   "language": "python",
   "name": "python3"
  },
  "language_info": {
   "codemirror_mode": {
    "name": "ipython",
    "version": 3
   },
   "file_extension": ".py",
   "mimetype": "text/x-python",
   "name": "python",
   "nbconvert_exporter": "python",
   "pygments_lexer": "ipython3",
   "version": "3.13.3"
  }
 },
 "nbformat": 4,
 "nbformat_minor": 5
}
