{
 "cells": [
  {
   "cell_type": "code",
   "execution_count": 3,
   "id": "9980d14e",
   "metadata": {},
   "outputs": [],
   "source": [
    "import numpy as np"
   ]
  },
  {
   "cell_type": "code",
   "execution_count": 4,
   "id": "27032b1c",
   "metadata": {},
   "outputs": [],
   "source": [
    "a = np.array([20, 40, 60, 80, 100])"
   ]
  },
  {
   "cell_type": "code",
   "execution_count": 13,
   "id": "f9ff543f",
   "metadata": {},
   "outputs": [
    {
     "name": "stdout",
     "output_type": "stream",
     "text": [
      "300\n",
      "20\n",
      "100\n",
      "5\n",
      "60.0\n",
      "[ 20  60 120 200 300]\n",
      "[       20       800     48000   3840000 384000000]\n"
     ]
    }
   ],
   "source": [
    "print(np.sum(a))  # Sum of all elements\n",
    "print(np.min(a))  # Minimum value\n",
    "print(np.max(a))  # Maximum value\n",
    "print(np.size(a))  # Number of elements\n",
    "print(np.mean(a))  # Mean value\n",
    "print(np.cumsum(a))  # Cumulative sum\n",
    "print(np.cumprod(a))  # Cumulative product"
   ]
  },
  {
   "cell_type": "code",
   "execution_count": 21,
   "id": "550d1eff",
   "metadata": {},
   "outputs": [
    {
     "name": "stdout",
     "output_type": "stream",
     "text": [
      "[ 100  400  900 1600 2500]\n",
      "<built-in method sum of numpy.ndarray object at 0x0000027CEC732B50>\n"
     ]
    }
   ],
   "source": [
    "price = np.array([100, 200, 300, 400, 500])\n",
    "quantity = np.array([1, 2, 3, 4, 5])\n",
    "print(price * quantity)  # Element-wise multiplication\n",
    "c = np.cumprod([price, quantity], axis=0)  # Cumulative product of price * quantity\n",
    "print(c[1].sum)"
   ]
  },
  {
   "cell_type": "code",
   "execution_count": null,
   "id": "be93c5d2",
   "metadata": {},
   "outputs": [],
   "source": []
  }
 ],
 "metadata": {
  "kernelspec": {
   "display_name": "Python 3",
   "language": "python",
   "name": "python3"
  },
  "language_info": {
   "codemirror_mode": {
    "name": "ipython",
    "version": 3
   },
   "file_extension": ".py",
   "mimetype": "text/x-python",
   "name": "python",
   "nbconvert_exporter": "python",
   "pygments_lexer": "ipython3",
   "version": "3.13.3"
  }
 },
 "nbformat": 4,
 "nbformat_minor": 5
}
