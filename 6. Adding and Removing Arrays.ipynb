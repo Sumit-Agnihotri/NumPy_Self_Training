{
 "cells": [
  {
   "cell_type": "code",
   "execution_count": 1,
   "id": "e0a07034",
   "metadata": {},
   "outputs": [],
   "source": [
    "import numpy as np"
   ]
  },
  {
   "cell_type": "code",
   "execution_count": 5,
   "id": "108a125e",
   "metadata": {},
   "outputs": [
    {
     "name": "stdout",
     "output_type": "stream",
     "text": [
      "[ 1  2  3  4  5  6 90]\n"
     ]
    }
   ],
   "source": [
    "a = np.array([[1, 2, 3], [4, 5, 6]])\n",
    "print(np.append(a, 90)) # Append 90 to the flattened array"
   ]
  },
  {
   "cell_type": "code",
   "execution_count": 8,
   "id": "ae239b2d",
   "metadata": {},
   "outputs": [
    {
     "name": "stdout",
     "output_type": "stream",
     "text": [
      "[10 15 20 30]\n"
     ]
    }
   ],
   "source": [
    "b = np.array([10, 20, 30])\n",
    "print(np.insert(b, 1, 15)) # (Array, index, value)"
   ]
  },
  {
   "cell_type": "code",
   "execution_count": 11,
   "id": "9adfceb6",
   "metadata": {},
   "outputs": [
    {
     "name": "stdout",
     "output_type": "stream",
     "text": [
      "[10 30]\n"
     ]
    }
   ],
   "source": [
    "b = np.array([10, 20, 30])\n",
    "print(np.delete(b,1))"
   ]
  },
  {
   "cell_type": "code",
   "execution_count": null,
   "id": "1ebf74ce",
   "metadata": {},
   "outputs": [],
   "source": []
  }
 ],
 "metadata": {
  "kernelspec": {
   "display_name": "Python 3",
   "language": "python",
   "name": "python3"
  },
  "language_info": {
   "codemirror_mode": {
    "name": "ipython",
    "version": 3
   },
   "file_extension": ".py",
   "mimetype": "text/x-python",
   "name": "python",
   "nbconvert_exporter": "python",
   "pygments_lexer": "ipython3",
   "version": "3.13.3"
  }
 },
 "nbformat": 4,
 "nbformat_minor": 5
}
