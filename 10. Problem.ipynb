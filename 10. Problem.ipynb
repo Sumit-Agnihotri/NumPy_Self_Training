{
 "cells": [
  {
   "cell_type": "code",
   "execution_count": 2,
   "id": "15f9d451",
   "metadata": {},
   "outputs": [],
   "source": [
    "import numpy as np"
   ]
  },
  {
   "cell_type": "code",
   "execution_count": 3,
   "id": "ba96c203",
   "metadata": {},
   "outputs": [],
   "source": [
    "tobacco_consumption = np.array([30,50,10,30,50,40])\n",
    "death = np.array([100,120,70,100,120,112])"
   ]
  },
  {
   "cell_type": "code",
   "execution_count": 4,
   "id": "e435ab32",
   "metadata": {},
   "outputs": [
    {
     "name": "stdout",
     "output_type": "stream",
     "text": [
      "[[1.         0.99015454]\n",
      " [0.99015454 1.        ]]\n"
     ]
    }
   ],
   "source": [
    "print(np.corrcoef(tobacco_consumption, death))"
   ]
  }
 ],
 "metadata": {
  "kernelspec": {
   "display_name": "Python 3",
   "language": "python",
   "name": "python3"
  },
  "language_info": {
   "codemirror_mode": {
    "name": "ipython",
    "version": 3
   },
   "file_extension": ".py",
   "mimetype": "text/x-python",
   "name": "python",
   "nbconvert_exporter": "python",
   "pygments_lexer": "ipython3",
   "version": "3.13.3"
  }
 },
 "nbformat": 4,
 "nbformat_minor": 5
}
