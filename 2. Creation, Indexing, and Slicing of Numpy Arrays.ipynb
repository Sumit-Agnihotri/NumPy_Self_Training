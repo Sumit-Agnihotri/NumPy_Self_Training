{
 "cells": [
  {
   "cell_type": "code",
   "execution_count": 1,
   "id": "93df8cb6",
   "metadata": {},
   "outputs": [],
   "source": [
    "import numpy as np"
   ]
  },
  {
   "cell_type": "code",
   "execution_count": null,
   "id": "d8098209",
   "metadata": {},
   "outputs": [
    {
     "name": "stdout",
     "output_type": "stream",
     "text": [
      "[[10 20 30 40]\n",
      " [50 60 70 80]]\n",
      "<class 'numpy.ndarray'>\n"
     ]
    }
   ],
   "source": [
    "arr = np.array([[10, 20, 30, 40],[50, 60, 70, 80]])\n",
    "print(arr)\n",
    "print(type(arr)) # <class 'numpy.ndarray'>"
   ]
  },
  {
   "cell_type": "code",
   "execution_count": null,
   "id": "06b79d07",
   "metadata": {},
   "outputs": [
    {
     "name": "stdout",
     "output_type": "stream",
     "text": [
      "[20 30]\n",
      "[70 80]\n"
     ]
    }
   ],
   "source": [
    "print(arr[0, 1:3]) # slicing the first row\n",
    "print(arr[1, 2:4]) # slicing the second row"
   ]
  },
  {
   "cell_type": "code",
   "execution_count": null,
   "id": "83f20f55",
   "metadata": {},
   "outputs": [
    {
     "name": "stdout",
     "output_type": "stream",
     "text": [
      "(2, 4)\n"
     ]
    }
   ],
   "source": [
    "print(arr.shape) # This will print the shape of the array(rows, columns)"
   ]
  },
  {
   "cell_type": "code",
   "execution_count": 12,
   "id": "82b968a7",
   "metadata": {},
   "outputs": [
    {
     "name": "stdout",
     "output_type": "stream",
     "text": [
      "8\n"
     ]
    }
   ],
   "source": [
    "print(arr.size) # This will print the total number of elements in the array"
   ]
  },
  {
   "cell_type": "code",
   "execution_count": 13,
   "id": "56a295f4",
   "metadata": {},
   "outputs": [
    {
     "name": "stdout",
     "output_type": "stream",
     "text": [
      "2\n"
     ]
    }
   ],
   "source": [
    "print(arr.ndim) # This will print the number of dimensions of the array"
   ]
  },
  {
   "cell_type": "code",
   "execution_count": 14,
   "id": "5aaf81f5",
   "metadata": {},
   "outputs": [
    {
     "name": "stdout",
     "output_type": "stream",
     "text": [
      "int64\n"
     ]
    }
   ],
   "source": [
    "print(arr.dtype) # This will print the data type of the elements in the array"
   ]
  }
 ],
 "metadata": {
  "kernelspec": {
   "display_name": "Python 3",
   "language": "python",
   "name": "python3"
  },
  "language_info": {
   "codemirror_mode": {
    "name": "ipython",
    "version": 3
   },
   "file_extension": ".py",
   "mimetype": "text/x-python",
   "name": "python",
   "nbconvert_exporter": "python",
   "pygments_lexer": "ipython3",
   "version": "3.13.3"
  }
 },
 "nbformat": 4,
 "nbformat_minor": 5
}
