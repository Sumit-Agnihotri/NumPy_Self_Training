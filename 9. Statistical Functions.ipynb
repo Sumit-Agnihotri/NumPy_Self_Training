{
 "cells": [
  {
   "cell_type": "code",
   "execution_count": 7,
   "id": "1692b334",
   "metadata": {},
   "outputs": [],
   "source": [
    "import numpy as np\n",
    "from scipy import stats"
   ]
  },
  {
   "cell_type": "code",
   "execution_count": 8,
   "id": "fd6a2e3a",
   "metadata": {},
   "outputs": [],
   "source": [
    "baked_food = np.array([200, 188, 150, 175, 210, 190, 180, 200, 195, 205])"
   ]
  },
  {
   "cell_type": "code",
   "execution_count": 13,
   "id": "679f9609",
   "metadata": {},
   "outputs": [
    {
     "name": "stdout",
     "output_type": "stream",
     "text": [
      "189.3\n",
      "192.5\n",
      "ModeResult(mode=np.int64(200), count=np.int64(2))\n",
      "16.655629678880352\n",
      "277.41\n"
     ]
    }
   ],
   "source": [
    "print(np.mean(baked_food))\n",
    "print(np.median(baked_food))\n",
    "print(stats.mode(baked_food))\n",
    "print(np.std(baked_food))  # Sample standard deviation\n",
    "print(np.var(baked_food))  # Sample variance"
   ]
  }
 ],
 "metadata": {
  "kernelspec": {
   "display_name": "Python 3",
   "language": "python",
   "name": "python3"
  },
  "language_info": {
   "codemirror_mode": {
    "name": "ipython",
    "version": 3
   },
   "file_extension": ".py",
   "mimetype": "text/x-python",
   "name": "python",
   "nbconvert_exporter": "python",
   "pygments_lexer": "ipython3",
   "version": "3.13.3"
  }
 },
 "nbformat": 4,
 "nbformat_minor": 5
}
