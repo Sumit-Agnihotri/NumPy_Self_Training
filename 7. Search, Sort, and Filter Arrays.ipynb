{
 "cells": [
  {
   "cell_type": "code",
   "execution_count": 1,
   "id": "b8951849",
   "metadata": {},
   "outputs": [],
   "source": [
    "import numpy as np"
   ]
  },
  {
   "cell_type": "code",
   "execution_count": 13,
   "id": "ef90c7c3",
   "metadata": {},
   "outputs": [
    {
     "name": "stdout",
     "output_type": "stream",
     "text": [
      "[[ 1  2  3  6]\n",
      " [ 0  4  8 10]]\n"
     ]
    }
   ],
   "source": [
    "a = np.array([[1,2,3,6],[8,10,4,0]])\n",
    "print(np.sort(a)) # Sorts the array in ascending order"
   ]
  },
  {
   "cell_type": "code",
   "execution_count": 10,
   "id": "76cb03eb",
   "metadata": {},
   "outputs": [
    {
     "name": "stdout",
     "output_type": "stream",
     "text": [
      "(array([1, 3, 4, 5]),)\n"
     ]
    }
   ],
   "source": [
    "b = np.array([1,2,3,6,4,8,7,5,9])\n",
    "c = np.where(b % 2 == 0)\n",
    "print(c)"
   ]
  },
  {
   "cell_type": "code",
   "execution_count": 17,
   "id": "d8ccc9ec",
   "metadata": {},
   "outputs": [
    {
     "name": "stdout",
     "output_type": "stream",
     "text": [
      "1\n"
     ]
    }
   ],
   "source": [
    "a = np.array([1,2,3,6])\n",
    "print(np.searchsorted(a, 2))  # Returns the index where 2 should be inserted to maintain order"
   ]
  },
  {
   "cell_type": "code",
   "execution_count": 18,
   "id": "044c0b1d",
   "metadata": {},
   "outputs": [
    {
     "name": "stdout",
     "output_type": "stream",
     "text": [
      "[20 40]\n"
     ]
    }
   ],
   "source": [
    "d = np.array([10,20,30,40,50])\n",
    "e = np.array([False, True, False, True, False])\n",
    "print(d[e])  # Returns elements of d where e is True"
   ]
  },
  {
   "cell_type": "code",
   "execution_count": 20,
   "id": "ff9271a1",
   "metadata": {},
   "outputs": [
    {
     "name": "stdout",
     "output_type": "stream",
     "text": [
      "[40 50]\n"
     ]
    }
   ],
   "source": [
    "e = d > 30\n",
    "f = d[e]\n",
    "print(f)  # Returns elements of d that are greater than 30"
   ]
  },
  {
   "cell_type": "code",
   "execution_count": 22,
   "id": "b69286a9",
   "metadata": {},
   "outputs": [
    {
     "name": "stdout",
     "output_type": "stream",
     "text": [
      "[30]\n"
     ]
    }
   ],
   "source": [
    "g = d % 3 == 0\n",
    "h = d[g]\n",
    "print(h)  # Returns elements of d that are even"
   ]
  }
 ],
 "metadata": {
  "kernelspec": {
   "display_name": "Python 3",
   "language": "python",
   "name": "python3"
  },
  "language_info": {
   "codemirror_mode": {
    "name": "ipython",
    "version": 3
   },
   "file_extension": ".py",
   "mimetype": "text/x-python",
   "name": "python",
   "nbconvert_exporter": "python",
   "pygments_lexer": "ipython3",
   "version": "3.13.3"
  }
 },
 "nbformat": 4,
 "nbformat_minor": 5
}
